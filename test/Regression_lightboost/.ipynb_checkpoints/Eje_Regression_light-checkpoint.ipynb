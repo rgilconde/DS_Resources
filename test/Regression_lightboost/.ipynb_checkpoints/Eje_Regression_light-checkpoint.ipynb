{
 "cells": [
  {
   "cell_type": "markdown",
   "id": "119b89a3",
   "metadata": {},
   "source": [
    "# Import Dependencies"
   ]
  },
  {
   "cell_type": "code",
   "execution_count": 1,
   "id": "db932dbb",
   "metadata": {},
   "outputs": [
    {
     "name": "stdout",
     "output_type": "stream",
     "text": [
      "Requirement already satisfied: shap-hypetune in /home/rgil/anaconda3/envs/DL/lib/python3.8/site-packages (0.2.5)\n",
      "Requirement already satisfied: numpy in /home/rgil/anaconda3/envs/DL/lib/python3.8/site-packages (from shap-hypetune) (1.19.5)\n",
      "Requirement already satisfied: shap>=0.39.0 in /home/rgil/anaconda3/envs/DL/lib/python3.8/site-packages (from shap-hypetune) (0.40.0)\n",
      "Requirement already satisfied: scipy in /home/rgil/anaconda3/envs/DL/lib/python3.8/site-packages (from shap-hypetune) (1.7.1)\n",
      "Requirement already satisfied: scikit-learn>=0.24.1 in /home/rgil/anaconda3/envs/DL/lib/python3.8/site-packages (from shap-hypetune) (1.0.1)\n",
      "Requirement already satisfied: hyperopt==0.2.5 in /home/rgil/anaconda3/envs/DL/lib/python3.8/site-packages (from shap-hypetune) (0.2.5)\n",
      "Requirement already satisfied: future in /home/rgil/anaconda3/envs/DL/lib/python3.8/site-packages (from hyperopt==0.2.5->shap-hypetune) (0.18.2)\n",
      "Requirement already satisfied: cloudpickle in /home/rgil/anaconda3/envs/DL/lib/python3.8/site-packages (from hyperopt==0.2.5->shap-hypetune) (2.0.0)\n",
      "Requirement already satisfied: tqdm in /home/rgil/anaconda3/envs/DL/lib/python3.8/site-packages (from hyperopt==0.2.5->shap-hypetune) (4.62.3)\n",
      "Requirement already satisfied: six in /home/rgil/anaconda3/envs/DL/lib/python3.8/site-packages (from hyperopt==0.2.5->shap-hypetune) (1.15.0)\n",
      "Requirement already satisfied: networkx>=2.2 in /home/rgil/anaconda3/envs/DL/lib/python3.8/site-packages (from hyperopt==0.2.5->shap-hypetune) (2.6.3)\n",
      "Requirement already satisfied: joblib>=0.11 in /home/rgil/anaconda3/envs/DL/lib/python3.8/site-packages (from scikit-learn>=0.24.1->shap-hypetune) (1.1.0)\n",
      "Requirement already satisfied: threadpoolctl>=2.0.0 in /home/rgil/anaconda3/envs/DL/lib/python3.8/site-packages (from scikit-learn>=0.24.1->shap-hypetune) (3.0.0)\n",
      "Requirement already satisfied: slicer==0.0.7 in /home/rgil/anaconda3/envs/DL/lib/python3.8/site-packages (from shap>=0.39.0->shap-hypetune) (0.0.7)\n",
      "Requirement already satisfied: packaging>20.9 in /home/rgil/anaconda3/envs/DL/lib/python3.8/site-packages (from shap>=0.39.0->shap-hypetune) (21.0)\n",
      "Requirement already satisfied: pandas in /home/rgil/anaconda3/envs/DL/lib/python3.8/site-packages (from shap>=0.39.0->shap-hypetune) (1.3.4)\n",
      "Requirement already satisfied: numba in /home/rgil/anaconda3/envs/DL/lib/python3.8/site-packages (from shap>=0.39.0->shap-hypetune) (0.54.1)\n",
      "Requirement already satisfied: pyparsing>=2.0.2 in /home/rgil/anaconda3/envs/DL/lib/python3.8/site-packages (from packaging>20.9->shap>=0.39.0->shap-hypetune) (3.0.4)\n",
      "Requirement already satisfied: setuptools in /home/rgil/anaconda3/envs/DL/lib/python3.8/site-packages (from numba->shap>=0.39.0->shap-hypetune) (58.0.4)\n",
      "Requirement already satisfied: llvmlite<0.38,>=0.37.0rc1 in /home/rgil/anaconda3/envs/DL/lib/python3.8/site-packages (from numba->shap>=0.39.0->shap-hypetune) (0.37.0)\n",
      "Requirement already satisfied: pytz>=2017.3 in /home/rgil/anaconda3/envs/DL/lib/python3.8/site-packages (from pandas->shap>=0.39.0->shap-hypetune) (2021.3)\n",
      "Requirement already satisfied: python-dateutil>=2.7.3 in /home/rgil/anaconda3/envs/DL/lib/python3.8/site-packages (from pandas->shap>=0.39.0->shap-hypetune) (2.8.2)\n"
     ]
    }
   ],
   "source": [
    "# import global dependencies\n",
    "!pip install --upgrade shap-hypetune\n",
    "import pandas as pd\n",
    "import os\n",
    "import glob\n",
    "import numpy as np\n",
    "# import src dependencies\n",
    "os.chdir(\"../..\")\n",
    "from  src.regression.light_boosting import *\n",
    "# Volvemos a test\n",
    "os.chdir(\"test/Regression_lightboost\")"
   ]
  },
  {
   "cell_type": "markdown",
   "id": "08231531",
   "metadata": {},
   "source": [
    "# Regression"
   ]
  },
  {
   "cell_type": "code",
   "execution_count": 2,
   "id": "16895f74",
   "metadata": {},
   "outputs": [],
   "source": [
    "# ETL\n",
    "data=pd.read_csv(\"Regression.csv\").dropna()\n",
    "\n",
    "# Select variables & data train & data new\n",
    "\n",
    "features_x=['Open','High','Low','Close']\n",
    "features_y=['Volume']\n",
    "X=data.loc[:,features_x]\n",
    "y=data.loc[:,features_y]\n",
    "\n",
    "# Split\n",
    "\n",
    "test_size=0.2\n",
    "\n",
    "X_train, X_test, y_train, y_test=split_test_train(X,y,test_size)\n",
    "\n",
    "# Scaler\n",
    "\n",
    "direccion='models/'\n",
    "\n",
    "X_train_scaler=Scaler(df=X_train,direction=direccion)\n",
    "with open('models/model_scaler.pkl', 'rb') as f:\n",
    "    scaler = pickle.load(f)\n",
    "X_test_scaler=scaler.transform(X_test)"
   ]
  },
  {
   "cell_type": "code",
   "execution_count": null,
   "id": "9e11c823",
   "metadata": {},
   "outputs": [],
   "source": [
    "param_grid = {\n",
    "    'learning_rate': [0.2, 0.1,0.05],\n",
    "    'num_leaves': [25,50,100],\n",
    "    'max_depth': [3,5,7,10],\n",
    "    'colsample_by':[0.5,0.75,1],\n",
    "    'sub_sample':[0.5,0.75,1],\n",
    "    'min_child_weight':[1,10,50]\n",
    "}"
   ]
  },
  {
   "cell_type": "code",
   "execution_count": null,
   "id": "f2fb567d",
   "metadata": {},
   "outputs": [],
   "source": [
    "model_boosting(X_train_scaler,y_train,X_test_scaler,y_test,param_grid)"
   ]
  },
  {
   "cell_type": "code",
   "execution_count": null,
   "id": "06ca2a4a",
   "metadata": {},
   "outputs": [],
   "source": [
    "direccion_results='results/'\n",
    "direction_models='models/'\n",
    "eta=0.2\n",
    "num_leaves=25\n",
    "max_depth=10\n",
    "results=training_results(X_train_scaler=X_train_scaler,X_test_scaler=X_test_scaler,y_train=y_train,y_test=y_test,direccion_results=direccion_results,direction_models=direction_models,eta=eta,num_leaves=num_leaves,max_depth=max_depth)"
   ]
  },
  {
   "cell_type": "code",
   "execution_count": null,
   "id": "a82b3789",
   "metadata": {},
   "outputs": [],
   "source": [
    "direccion=\"results/graph\"\n",
    "ini=0\n",
    "final=100\n",
    "name=features_y[0]\n",
    "graphs(direccion=direccion,result=results,ini=ini,final=final,name=name)"
   ]
  },
  {
   "cell_type": "code",
   "execution_count": null,
   "id": "c9223675",
   "metadata": {},
   "outputs": [],
   "source": []
  },
  {
   "cell_type": "code",
   "execution_count": null,
   "id": "2adaf390",
   "metadata": {},
   "outputs": [],
   "source": []
  },
  {
   "cell_type": "code",
   "execution_count": null,
   "id": "920c323e",
   "metadata": {},
   "outputs": [],
   "source": []
  },
  {
   "cell_type": "code",
   "execution_count": null,
   "id": "d04a5e6c",
   "metadata": {},
   "outputs": [],
   "source": []
  },
  {
   "cell_type": "code",
   "execution_count": null,
   "id": "c2bf4f29",
   "metadata": {},
   "outputs": [],
   "source": []
  }
 ],
 "metadata": {
  "kernelspec": {
   "display_name": "Python 3 (ipykernel)",
   "language": "python",
   "name": "python3"
  },
  "language_info": {
   "codemirror_mode": {
    "name": "ipython",
    "version": 3
   },
   "file_extension": ".py",
   "mimetype": "text/x-python",
   "name": "python",
   "nbconvert_exporter": "python",
   "pygments_lexer": "ipython3",
   "version": "3.8.12"
  }
 },
 "nbformat": 4,
 "nbformat_minor": 5
}
