{
 "cells": [
  {
   "cell_type": "markdown",
   "id": "890049ab",
   "metadata": {},
   "source": [
    "# Import Dependencies"
   ]
  },
  {
   "cell_type": "code",
   "execution_count": 1,
   "id": "463e4e2a",
   "metadata": {},
   "outputs": [
    {
     "name": "stderr",
     "output_type": "stream",
     "text": [
      "2022-02-01 17:04:03.742433: W tensorflow/stream_executor/platform/default/dso_loader.cc:64] Could not load dynamic library 'libcudart.so.11.0'; dlerror: libcudart.so.11.0: cannot open shared object file: No such file or directory\n",
      "2022-02-01 17:04:03.742456: I tensorflow/stream_executor/cuda/cudart_stub.cc:29] Ignore above cudart dlerror if you do not have a GPU set up on your machine.\n"
     ]
    }
   ],
   "source": [
    "# import global dependencies\n",
    "import pandas as pd\n",
    "import os\n",
    "import glob\n",
    "import numpy as np\n",
    "# import src dependencies\n",
    "os.chdir(\"../..\")\n",
    "from  src.forecasting.LSTM import *\n",
    "# Volvemos a test\n",
    "os.chdir(\"test/Forecasting_LSTM\")"
   ]
  },
  {
   "cell_type": "code",
   "execution_count": 2,
   "id": "f1722cfd",
   "metadata": {},
   "outputs": [],
   "source": [
    "variable='coolant'\n",
    "data=pd.read_csv(\"data.csv\")"
   ]
  },
  {
   "cell_type": "code",
   "execution_count": 3,
   "id": "028811df",
   "metadata": {},
   "outputs": [
    {
     "data": {
      "text/html": [
       "<div>\n",
       "<style scoped>\n",
       "    .dataframe tbody tr th:only-of-type {\n",
       "        vertical-align: middle;\n",
       "    }\n",
       "\n",
       "    .dataframe tbody tr th {\n",
       "        vertical-align: top;\n",
       "    }\n",
       "\n",
       "    .dataframe thead th {\n",
       "        text-align: right;\n",
       "    }\n",
       "</style>\n",
       "<table border=\"1\" class=\"dataframe\">\n",
       "  <thead>\n",
       "    <tr style=\"text-align: right;\">\n",
       "      <th></th>\n",
       "      <th>u_q</th>\n",
       "      <th>coolant</th>\n",
       "      <th>stator_winding</th>\n",
       "      <th>u_d</th>\n",
       "      <th>stator_tooth</th>\n",
       "      <th>motor_speed</th>\n",
       "      <th>i_d</th>\n",
       "      <th>i_q</th>\n",
       "      <th>pm</th>\n",
       "      <th>stator_yoke</th>\n",
       "      <th>ambient</th>\n",
       "      <th>torque</th>\n",
       "      <th>profile_id</th>\n",
       "    </tr>\n",
       "  </thead>\n",
       "  <tbody>\n",
       "    <tr>\n",
       "      <th>0</th>\n",
       "      <td>-0.450682</td>\n",
       "      <td>18.805172</td>\n",
       "      <td>19.086670</td>\n",
       "      <td>-0.350055</td>\n",
       "      <td>18.293219</td>\n",
       "      <td>0.002866</td>\n",
       "      <td>0.004419</td>\n",
       "      <td>0.000328</td>\n",
       "      <td>24.554214</td>\n",
       "      <td>18.316547</td>\n",
       "      <td>19.850691</td>\n",
       "      <td>1.871008e-01</td>\n",
       "      <td>17</td>\n",
       "    </tr>\n",
       "    <tr>\n",
       "      <th>1</th>\n",
       "      <td>-0.325737</td>\n",
       "      <td>18.818571</td>\n",
       "      <td>19.092390</td>\n",
       "      <td>-0.305803</td>\n",
       "      <td>18.294807</td>\n",
       "      <td>0.000257</td>\n",
       "      <td>0.000606</td>\n",
       "      <td>-0.000785</td>\n",
       "      <td>24.538078</td>\n",
       "      <td>18.314955</td>\n",
       "      <td>19.850672</td>\n",
       "      <td>2.454175e-01</td>\n",
       "      <td>17</td>\n",
       "    </tr>\n",
       "    <tr>\n",
       "      <th>2</th>\n",
       "      <td>-0.440864</td>\n",
       "      <td>18.828770</td>\n",
       "      <td>19.089380</td>\n",
       "      <td>-0.372503</td>\n",
       "      <td>18.294094</td>\n",
       "      <td>0.002355</td>\n",
       "      <td>0.001290</td>\n",
       "      <td>0.000386</td>\n",
       "      <td>24.544693</td>\n",
       "      <td>18.326307</td>\n",
       "      <td>19.850657</td>\n",
       "      <td>1.766153e-01</td>\n",
       "      <td>17</td>\n",
       "    </tr>\n",
       "    <tr>\n",
       "      <th>3</th>\n",
       "      <td>-0.327026</td>\n",
       "      <td>18.835567</td>\n",
       "      <td>19.083031</td>\n",
       "      <td>-0.316199</td>\n",
       "      <td>18.292542</td>\n",
       "      <td>0.006105</td>\n",
       "      <td>0.000026</td>\n",
       "      <td>0.002046</td>\n",
       "      <td>24.554018</td>\n",
       "      <td>18.330833</td>\n",
       "      <td>19.850647</td>\n",
       "      <td>2.383027e-01</td>\n",
       "      <td>17</td>\n",
       "    </tr>\n",
       "    <tr>\n",
       "      <th>4</th>\n",
       "      <td>-0.471150</td>\n",
       "      <td>18.857033</td>\n",
       "      <td>19.082525</td>\n",
       "      <td>-0.332272</td>\n",
       "      <td>18.291428</td>\n",
       "      <td>0.003133</td>\n",
       "      <td>-0.064317</td>\n",
       "      <td>0.037184</td>\n",
       "      <td>24.565397</td>\n",
       "      <td>18.326662</td>\n",
       "      <td>19.850639</td>\n",
       "      <td>2.081967e-01</td>\n",
       "      <td>17</td>\n",
       "    </tr>\n",
       "    <tr>\n",
       "      <th>...</th>\n",
       "      <td>...</td>\n",
       "      <td>...</td>\n",
       "      <td>...</td>\n",
       "      <td>...</td>\n",
       "      <td>...</td>\n",
       "      <td>...</td>\n",
       "      <td>...</td>\n",
       "      <td>...</td>\n",
       "      <td>...</td>\n",
       "      <td>...</td>\n",
       "      <td>...</td>\n",
       "      <td>...</td>\n",
       "      <td>...</td>\n",
       "    </tr>\n",
       "    <tr>\n",
       "      <th>1330811</th>\n",
       "      <td>-2.152128</td>\n",
       "      <td>30.721298</td>\n",
       "      <td>45.274497</td>\n",
       "      <td>0.791801</td>\n",
       "      <td>41.934347</td>\n",
       "      <td>0.000380</td>\n",
       "      <td>-2.000169</td>\n",
       "      <td>1.097528</td>\n",
       "      <td>62.147780</td>\n",
       "      <td>38.653720</td>\n",
       "      <td>23.989078</td>\n",
       "      <td>-8.116730e-60</td>\n",
       "      <td>71</td>\n",
       "    </tr>\n",
       "    <tr>\n",
       "      <th>1330812</th>\n",
       "      <td>-2.258684</td>\n",
       "      <td>30.721306</td>\n",
       "      <td>45.239017</td>\n",
       "      <td>0.778900</td>\n",
       "      <td>41.868923</td>\n",
       "      <td>0.002985</td>\n",
       "      <td>-2.000499</td>\n",
       "      <td>1.097569</td>\n",
       "      <td>62.142646</td>\n",
       "      <td>38.656328</td>\n",
       "      <td>23.970700</td>\n",
       "      <td>-5.815891e-60</td>\n",
       "      <td>71</td>\n",
       "    </tr>\n",
       "    <tr>\n",
       "      <th>1330813</th>\n",
       "      <td>-2.130312</td>\n",
       "      <td>30.721312</td>\n",
       "      <td>45.211576</td>\n",
       "      <td>0.804914</td>\n",
       "      <td>41.804819</td>\n",
       "      <td>0.002301</td>\n",
       "      <td>-1.999268</td>\n",
       "      <td>1.098765</td>\n",
       "      <td>62.138387</td>\n",
       "      <td>38.650923</td>\n",
       "      <td>23.977234</td>\n",
       "      <td>-4.167268e-60</td>\n",
       "      <td>71</td>\n",
       "    </tr>\n",
       "    <tr>\n",
       "      <th>1330814</th>\n",
       "      <td>-2.268498</td>\n",
       "      <td>30.721316</td>\n",
       "      <td>45.193508</td>\n",
       "      <td>0.763091</td>\n",
       "      <td>41.762220</td>\n",
       "      <td>0.005662</td>\n",
       "      <td>-2.000999</td>\n",
       "      <td>1.095696</td>\n",
       "      <td>62.133422</td>\n",
       "      <td>38.655686</td>\n",
       "      <td>24.001421</td>\n",
       "      <td>-2.985978e-60</td>\n",
       "      <td>71</td>\n",
       "    </tr>\n",
       "    <tr>\n",
       "      <th>1330815</th>\n",
       "      <td>-2.100158</td>\n",
       "      <td>30.721319</td>\n",
       "      <td>45.132307</td>\n",
       "      <td>0.807309</td>\n",
       "      <td>41.734763</td>\n",
       "      <td>0.004395</td>\n",
       "      <td>-2.000792</td>\n",
       "      <td>1.096487</td>\n",
       "      <td>62.131429</td>\n",
       "      <td>38.660370</td>\n",
       "      <td>24.027522</td>\n",
       "      <td>-2.139547e-60</td>\n",
       "      <td>71</td>\n",
       "    </tr>\n",
       "  </tbody>\n",
       "</table>\n",
       "<p>1330816 rows × 13 columns</p>\n",
       "</div>"
      ],
      "text/plain": [
       "              u_q    coolant  stator_winding       u_d  stator_tooth  \\\n",
       "0       -0.450682  18.805172       19.086670 -0.350055     18.293219   \n",
       "1       -0.325737  18.818571       19.092390 -0.305803     18.294807   \n",
       "2       -0.440864  18.828770       19.089380 -0.372503     18.294094   \n",
       "3       -0.327026  18.835567       19.083031 -0.316199     18.292542   \n",
       "4       -0.471150  18.857033       19.082525 -0.332272     18.291428   \n",
       "...           ...        ...             ...       ...           ...   \n",
       "1330811 -2.152128  30.721298       45.274497  0.791801     41.934347   \n",
       "1330812 -2.258684  30.721306       45.239017  0.778900     41.868923   \n",
       "1330813 -2.130312  30.721312       45.211576  0.804914     41.804819   \n",
       "1330814 -2.268498  30.721316       45.193508  0.763091     41.762220   \n",
       "1330815 -2.100158  30.721319       45.132307  0.807309     41.734763   \n",
       "\n",
       "         motor_speed       i_d       i_q         pm  stator_yoke    ambient  \\\n",
       "0           0.002866  0.004419  0.000328  24.554214    18.316547  19.850691   \n",
       "1           0.000257  0.000606 -0.000785  24.538078    18.314955  19.850672   \n",
       "2           0.002355  0.001290  0.000386  24.544693    18.326307  19.850657   \n",
       "3           0.006105  0.000026  0.002046  24.554018    18.330833  19.850647   \n",
       "4           0.003133 -0.064317  0.037184  24.565397    18.326662  19.850639   \n",
       "...              ...       ...       ...        ...          ...        ...   \n",
       "1330811     0.000380 -2.000169  1.097528  62.147780    38.653720  23.989078   \n",
       "1330812     0.002985 -2.000499  1.097569  62.142646    38.656328  23.970700   \n",
       "1330813     0.002301 -1.999268  1.098765  62.138387    38.650923  23.977234   \n",
       "1330814     0.005662 -2.000999  1.095696  62.133422    38.655686  24.001421   \n",
       "1330815     0.004395 -2.000792  1.096487  62.131429    38.660370  24.027522   \n",
       "\n",
       "               torque  profile_id  \n",
       "0        1.871008e-01          17  \n",
       "1        2.454175e-01          17  \n",
       "2        1.766153e-01          17  \n",
       "3        2.383027e-01          17  \n",
       "4        2.081967e-01          17  \n",
       "...               ...         ...  \n",
       "1330811 -8.116730e-60          71  \n",
       "1330812 -5.815891e-60          71  \n",
       "1330813 -4.167268e-60          71  \n",
       "1330814 -2.985978e-60          71  \n",
       "1330815 -2.139547e-60          71  \n",
       "\n",
       "[1330816 rows x 13 columns]"
      ]
     },
     "execution_count": 3,
     "metadata": {},
     "output_type": "execute_result"
    }
   ],
   "source": [
    "data"
   ]
  },
  {
   "cell_type": "code",
   "execution_count": 4,
   "id": "43bae88c",
   "metadata": {},
   "outputs": [
    {
     "data": {
      "image/png": "[encoded data removed]",
      "text/plain": [
       "<Figure size 432x288 with 1 Axes>"
      ]
     },
     "metadata": {
      "needs_background": "light"
     },
     "output_type": "display_data"
    }
   ],
   "source": [
    "from matplotlib import pyplot\n",
    "variable='coolant'\n",
    "data_r=data[data.profile_id==17]\n",
    "data_r=data_r.iloc[4000:,:]\n",
    "data_red=data_r.loc[:,variable]\n",
    "data_red.plot()\n",
    "data_final=data_red.reset_index(drop=True)\n",
    "pyplot.show()"
   ]
  },
  {
   "cell_type": "code",
   "execution_count": 23,
   "id": "67435cf5",
   "metadata": {},
   "outputs": [
    {
     "data": {
      "image/png": "[encoded data removed]",
      "text/plain": [
       "<Figure size 432x288 with 1 Axes>"
      ]
     },
     "metadata": {
      "needs_background": "light"
     },
     "output_type": "display_data"
    }
   ],
   "source": [
    "variable='i_d'\n",
    "data_r=data[data.profile_id==17]\n",
    "data_r=data_r.iloc[4000:,:]\n",
    "data_agg=data_r.loc[:,variable]\n",
    "data_agg.plot()\n",
    "data_agg=data_agg.reset_index(drop=True)\n",
    "pyplot.show()"
   ]
  },
  {
   "cell_type": "code",
   "execution_count": 24,
   "id": "b3e06361",
   "metadata": {},
   "outputs": [
    {
     "data": {
      "image/png": "[encoded data removed]",
      "text/plain": [
       "<Figure size 432x288 with 1 Axes>"
      ]
     },
     "metadata": {
      "needs_background": "light"
     },
     "output_type": "display_data"
    }
   ],
   "source": [
    "variable='motor_speed'\n",
    "data_r=data[data.profile_id==17]\n",
    "data_r=data_r.iloc[4000:,:]\n",
    "data_agg_2=data_r.loc[:,variable]\n",
    "data_agg_2.plot()\n",
    "data_agg_2=data_agg_2.reset_index(drop=True)\n",
    "pyplot.show()"
   ]
  },
  {
   "cell_type": "markdown",
   "id": "b77fb878",
   "metadata": {},
   "source": [
    "# Scaler"
   ]
  },
  {
   "cell_type": "code",
   "execution_count": 25,
   "id": "4fccf356",
   "metadata": {},
   "outputs": [],
   "source": [
    "direccion='models/'\n",
    "X_coolant=Scaler(df=data_final,direction=direccion,name='coolant')\n",
    "name='coolant'\n",
    "with open('models/model_scaler'+name+'.pkl', 'rb') as f:\n",
    "    scaler_coolant = pickle.load(f)\n",
    "# X_test_scaler=scaler.transform(data_test)"
   ]
  },
  {
   "cell_type": "code",
   "execution_count": 29,
   "id": "a9b903df",
   "metadata": {},
   "outputs": [],
   "source": [
    "direccion='models/'\n",
    "X_id=Scaler(df=data_agg,direction=direccion,name='i_d')\n",
    "name='i_d'\n",
    "with open('models/model_scaler'+name+'.pkl', 'rb') as f:\n",
    "    scaler_id = pickle.load(f)\n",
    "# X_test_scaler=scaler.transform(data_test)"
   ]
  },
  {
   "cell_type": "code",
   "execution_count": 30,
   "id": "d5fe9188",
   "metadata": {},
   "outputs": [],
   "source": [
    "direccion='models/'\n",
    "X_m=Scaler(df=data_agg,direction=direccion,name='motor_speed')\n",
    "name='motor_speed'\n",
    "with open('models/model_scaler'+name+'.pkl', 'rb') as f:\n",
    "    scaler_m = pickle.load(f)\n",
    "# X_test_scaler=scaler.transform(data_test)"
   ]
  },
  {
   "cell_type": "code",
   "execution_count": 34,
   "id": "8c95d91b",
   "metadata": {},
   "outputs": [],
   "source": [
    "X_col,y=create_sequences(X_coolant,time_steps=10,time_steps_y=1)\n",
    "X_agr,y_agr=create_sequences(X_id,time_steps=10,time_steps_y=1)\n",
    "X_agr2,y_agr2=create_sequences(X_m,time_steps=10,time_steps_y=1)\n",
    "X_col=np.concatenate((X_col,X_agr),axis=2)\n",
    "X_col=np.concatenate((X_col,X_agr2),axis=2)"
   ]
  },
  {
   "cell_type": "markdown",
   "id": "d8167ffc",
   "metadata": {},
   "source": [
    "# Create Models"
   ]
  },
  {
   "cell_type": "code",
   "execution_count": 35,
   "id": "1921a652",
   "metadata": {},
   "outputs": [],
   "source": [
    "d1=128\n",
    "d2=64\n",
    "dpt=0.2\n",
    "model=model_lstm(X=X_col,y=y,dim1=d1,dim2=d2,dp=dpt)"
   ]
  },
  {
   "cell_type": "code",
   "execution_count": 36,
   "id": "36373d7c",
   "metadata": {},
   "outputs": [
    {
     "name": "stdout",
     "output_type": "stream",
     "text": [
      "Model: \"sequential_1\"\n",
      "_________________________________________________________________\n",
      "Layer (type)                 Output Shape              Param #   \n",
      "=================================================================\n",
      "lstm_2 (LSTM)                (None, 10, 128)           67584     \n",
      "_________________________________________________________________\n",
      "dropout_2 (Dropout)          (None, 10, 128)           0         \n",
      "_________________________________________________________________\n",
      "lstm_3 (LSTM)                (None, 64)                49408     \n",
      "_________________________________________________________________\n",
      "dropout_3 (Dropout)          (None, 64)                0         \n",
      "_________________________________________________________________\n",
      "dense_1 (Dense)              (None, 1)                 65        \n",
      "=================================================================\n",
      "Total params: 117,057\n",
      "Trainable params: 117,057\n",
      "Non-trainable params: 0\n",
      "_________________________________________________________________\n"
     ]
    }
   ],
   "source": [
    "model.summary()"
   ]
  },
  {
   "cell_type": "code",
   "execution_count": 37,
   "id": "511ff53b",
   "metadata": {},
   "outputs": [],
   "source": [
    "from sklearn.model_selection import train_test_split\n",
    "X_train, X_test, y_train, y_test = train_test_split(X_col, y, test_size=0.2, random_state=42)"
   ]
  },
  {
   "cell_type": "code",
   "execution_count": 38,
   "id": "ec161e16",
   "metadata": {},
   "outputs": [
    {
     "name": "stdout",
     "output_type": "stream",
     "text": [
      "Epoch 1/10000\n",
      "192/192 [==============================] - 4s 13ms/step - loss: 0.1638 - val_loss: 0.0332\n",
      "\n",
      "Epoch 00001: val_loss improved from inf to 0.03317, saving model to models/model_lstm.h5\n",
      "Epoch 2/10000\n",
      "192/192 [==============================] - 2s 13ms/step - loss: 0.0397 - val_loss: 0.0083\n",
      "\n",
      "Epoch 00002: val_loss improved from 0.03317 to 0.00829, saving model to models/model_lstm.h5\n",
      "Epoch 3/10000\n",
      "192/192 [==============================] - 2s 12ms/step - loss: 0.0229 - val_loss: 0.0056\n",
      "\n",
      "Epoch 00003: val_loss improved from 0.00829 to 0.00560, saving model to models/model_lstm.h5\n",
      "Epoch 4/10000\n",
      "192/192 [==============================] - 2s 12ms/step - loss: 0.0200 - val_loss: 0.0059\n",
      "\n",
      "Epoch 00004: val_loss did not improve from 0.00560\n",
      "Epoch 5/10000\n",
      "192/192 [==============================] - 2s 13ms/step - loss: 0.0181 - val_loss: 0.0067\n",
      "\n",
      "Epoch 00005: val_loss did not improve from 0.00560\n",
      "Epoch 6/10000\n",
      "192/192 [==============================] - 2s 13ms/step - loss: 0.0176 - val_loss: 0.0039\n",
      "\n",
      "Epoch 00006: val_loss improved from 0.00560 to 0.00391, saving model to models/model_lstm.h5\n",
      "Epoch 7/10000\n",
      "192/192 [==============================] - 2s 13ms/step - loss: 0.0168 - val_loss: 0.0049\n",
      "\n",
      "Epoch 00007: val_loss did not improve from 0.00391\n",
      "Epoch 8/10000\n",
      "192/192 [==============================] - 2s 12ms/step - loss: 0.0164 - val_loss: 0.0048\n",
      "\n",
      "Epoch 00008: val_loss did not improve from 0.00391\n",
      "Epoch 9/10000\n",
      "192/192 [==============================] - 2s 12ms/step - loss: 0.0155 - val_loss: 0.0068\n",
      "\n",
      "Epoch 00009: val_loss did not improve from 0.00391\n",
      "Epoch 10/10000\n",
      "192/192 [==============================] - 2s 12ms/step - loss: 0.0152 - val_loss: 0.0030\n",
      "\n",
      "Epoch 00010: val_loss improved from 0.00391 to 0.00298, saving model to models/model_lstm.h5\n",
      "Epoch 11/10000\n",
      "192/192 [==============================] - 2s 12ms/step - loss: 0.0152 - val_loss: 0.0036\n",
      "\n",
      "Epoch 00011: val_loss did not improve from 0.00298\n",
      "Epoch 12/10000\n",
      "192/192 [==============================] - 2s 12ms/step - loss: 0.0144 - val_loss: 0.0024\n",
      "\n",
      "Epoch 00012: val_loss improved from 0.00298 to 0.00236, saving model to models/model_lstm.h5\n",
      "Epoch 13/10000\n",
      "192/192 [==============================] - 2s 12ms/step - loss: 0.0140 - val_loss: 0.0033\n",
      "\n",
      "Epoch 00013: val_loss did not improve from 0.00236\n",
      "Epoch 14/10000\n",
      "192/192 [==============================] - 2s 12ms/step - loss: 0.0141 - val_loss: 0.0037\n",
      "\n",
      "Epoch 00014: val_loss did not improve from 0.00236\n",
      "Epoch 15/10000\n",
      "192/192 [==============================] - 3s 14ms/step - loss: 0.0139 - val_loss: 0.0028\n",
      "\n",
      "Epoch 00015: val_loss did not improve from 0.00236\n",
      "Epoch 16/10000\n",
      "192/192 [==============================] - 3s 15ms/step - loss: 0.0140 - val_loss: 0.0039\n",
      "\n",
      "Epoch 00016: val_loss did not improve from 0.00236\n",
      "Epoch 17/10000\n",
      "192/192 [==============================] - 3s 15ms/step - loss: 0.0138 - val_loss: 0.0027\n",
      "\n",
      "Epoch 00017: val_loss did not improve from 0.00236\n",
      "Epoch 00017: early stopping\n"
     ]
    }
   ],
   "source": [
    "direccion='models/'\n",
    "patience=5\n",
    "bs=50\n",
    "n_epochs=10000\n",
    "verbose=1\n",
    "training(X_train=X_train,y_train=y_train,X_test=X_test,y_test=y_test,model=model,patience=patience,direccion=direccion,bs=bs,n_epochs=n_epochs,verbose=verbose)"
   ]
  },
  {
   "cell_type": "code",
   "execution_count": 39,
   "id": "43f23a9b",
   "metadata": {},
   "outputs": [],
   "source": [
    "new_model = tf.keras.models.load_model('models/model_lstm.h5')"
   ]
  },
  {
   "cell_type": "code",
   "execution_count": 40,
   "id": "af9f5a7f",
   "metadata": {},
   "outputs": [
    {
     "data": {
      "image/png": "[encoded data removed]",
      "text/plain": [
       "<Figure size 432x288 with 1 Axes>"
      ]
     },
     "metadata": {
      "needs_background": "light"
     },
     "output_type": "display_data"
    }
   ],
   "source": [
    "graphs(X=X_col,y=y,scaler=scaler_coolant,lin_inf=100,lim_sup=120,model=new_model)"
   ]
  },
  {
   "cell_type": "code",
   "execution_count": null,
   "id": "a86c599c",
   "metadata": {},
   "outputs": [],
   "source": [
    "\n",
    "import matplotlib.pyplot as plt\n",
    "plt.plot(pd.DataFrame(scaler_coolant.inverse_transform(new_model.predict(X_col[80].reshape(1,100,1))).reshape(10,1)), label = \"Predict\")\n",
    "# plotting the line 2 points \n",
    "plt.plot(pd.DataFrame(scaler_coolant.inverse_transform(y[80].reshape(10,1))), label = \"Real\")\n",
    "# show a legend on the plot\n",
    "plt.legend()\n",
    "# Display a figure.\n",
    "plt.show()"
   ]
  },
  {
   "cell_type": "code",
   "execution_count": null,
   "id": "967f5913",
   "metadata": {},
   "outputs": [],
   "source": []
  },
  {
   "cell_type": "code",
   "execution_count": null,
   "id": "09dc1bf8",
   "metadata": {},
   "outputs": [],
   "source": [
    "scaler_coolant.inverse_transform(new_model.predict(X_col[0].reshape(1,100,1))).reshape(10,1)"
   ]
  },
  {
   "cell_type": "code",
   "execution_count": null,
   "id": "da2a488e",
   "metadata": {},
   "outputs": [],
   "source": []
  }
 ],
 "metadata": {
  "kernelspec": {
   "display_name": "Python 3 (ipykernel)",
   "language": "python",
   "name": "python3"
  },
  "language_info": {
   "codemirror_mode": {
    "name": "ipython",
    "version": 3
   },
   "file_extension": ".py",
   "mimetype": "text/x-python",
   "name": "python",
   "nbconvert_exporter": "python",
   "pygments_lexer": "ipython3",
   "version": "3.8.12"
  }
 },
 "nbformat": 4,
 "nbformat_minor": 5
}
