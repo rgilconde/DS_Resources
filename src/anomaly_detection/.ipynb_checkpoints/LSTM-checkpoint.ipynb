{
 "cells": [
  {
   "cell_type": "code",
   "execution_count": null,
   "id": "be1d4368",
   "metadata": {},
   "outputs": [
    {
     "name": "stderr",
     "output_type": "stream",
     "text": [
      "2022-01-26 16:17:39.212755: W tensorflow/stream_executor/platform/default/dso_loader.cc:64] Could not load dynamic library 'libcudart.so.11.0'; dlerror: libcudart.so.11.0: cannot open shared object file: No such file or directory\n",
      "2022-01-26 16:17:39.212778: I tensorflow/stream_executor/cuda/cudart_stub.cc:29] Ignore above cudart dlerror if you do not have a GPU set up on your machine.\n"
     ]
    }
   ],
   "source": [
    "from tensorflow.keras.models import Sequential\n",
    "from tensorflow.keras.layers import Dense, LSTM, Dropout\n",
    "from keras.callbacks import EarlyStopping,ModelCheckpoint\n",
    "from tensorflow.keras.models import Sequential\n",
    "from tensorflow.keras.layers import Dense, LSTM, Dropout, RepeatVector, TimeDistributed\n",
    "import pickle\n",
    "import numpy as np\n",
    "import tensorflow as tf\n",
    "import glob\n",
    "from tensorflow import keras\n",
    "from tensorflow.keras import layers\n",
    "import matplotlib.pyplot as plt\n",
    "import pandas as pd\n",
    "\n",
    "# ETL to sequences\n",
    "\n",
    "def create_sequences(X,time_steps):\n",
    "    # X data en forma de numpy\n",
    "    # time_steps, la cantidad de datos que quieres meter\n",
    "    Xs=[]\n",
    "    for i in range(X.shape[0]-time_steps):\n",
    "        Xs.append(X[i:(i+time_steps)])\n",
    "    return np.array(Xs)\n",
    "\n",
    "# Create model\n",
    "\n",
    "def model_lstm(data,time_steps,dim_out,dim_in,dp):\n",
    "    # Data, es data en forma de create_sequences\n",
    "    # time_steps, es la cantidad de datos de sequencia que se quiere meter\n",
    "    # dim out & dim in, dimensionalidad  de la red neuronalde lstm\n",
    "    # dp is drop_out\n",
    "    model = Sequential()\n",
    "    model.add(LSTM(dim_out, activation='relu', input_shape=(time_steps,data.shape[2]), return_sequences=True))\n",
    "    model.add(Droupout(dp))\n",
    "    model.add(LSTM(dim_in, activation='relu', return_sequences=True))\n",
    "    model.add(Droupout(dp))\n",
    "    model.add(LSTM(dim_in, activation='relu', return_sequences=True))\n",
    "    model.add(Droupout(dp))\n",
    "    model.add(LSMT(dim_out, activation='relu', return_sequences=True))\n",
    "    model.add(Droupout(dp))\n",
    "    model.add(TimeDistributed(Dense(data.shape[2])))\n",
    "    return model\n",
    "\n",
    "# Training\n",
    "\n",
    "def training(data,model,patience,direccion,bs,n_epochs):\n",
    "    # data, model\n",
    "    # patience, cantidad de epochs que no avanza para meteler checkpoints\n",
    "    # bs es la cantidad de batch & n_epochs, es la cantidad maxima de epcohs que se pueden dar \n",
    "    \n",
    "    es = EarlyStopping(monitor='loss', mode='min', verbose=0, patience=patience)\n",
    "    mc = ModelCheckpoint(direccion+'model_lstm.h5', monitor='loss', mode='min', verbose=0, save_best_only=True)\n",
    "    model.fit(data,data,batch_size=bs,epochs=n_epochs,verbose=0,callbacks=[es,mc])"
   ]
  },
  {
   "cell_type": "code",
   "execution_count": null,
   "id": "f01a62b2",
   "metadata": {},
   "outputs": [],
   "source": []
  }
 ],
 "metadata": {
  "kernelspec": {
   "display_name": "Python 3 (ipykernel)",
   "language": "python",
   "name": "python3"
  },
  "language_info": {
   "codemirror_mode": {
    "name": "ipython",
    "version": 3
   },
   "file_extension": ".py",
   "mimetype": "text/x-python",
   "name": "python",
   "nbconvert_exporter": "python",
   "pygments_lexer": "ipython3",
   "version": "3.8.12"
  }
 },
 "nbformat": 4,
 "nbformat_minor": 5
}
